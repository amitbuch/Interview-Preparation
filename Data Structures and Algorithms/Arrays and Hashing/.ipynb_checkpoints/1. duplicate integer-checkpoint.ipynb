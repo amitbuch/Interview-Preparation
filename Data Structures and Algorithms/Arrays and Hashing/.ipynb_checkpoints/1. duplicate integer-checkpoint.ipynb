{
 "cells": [
  {
   "cell_type": "markdown",
   "id": "b91777bf-419f-48b6-95b1-94c5b4aa8d8e",
   "metadata": {},
   "source": [
    "#  Arrays and Hashing Problems solved from Blind 75 Challenges."
   ]
  },
  {
   "cell_type": "markdown",
   "id": "55526251-480b-48ae-8ab1-5b952213da6a",
   "metadata": {},
   "source": [
    "## 1. Duplicate Integer\n",
    "\n",
    "### Given an integer array nums, return true if any value appears more than once in the array, otherwise return false.\n",
    "\n",
    "#### Example 1:\n",
    "\n",
    "Input: nums = [1, 2, 3, 3]\n",
    "\n",
    "Output: true\n",
    "\n",
    "#### Example 2:\n",
    "\n",
    "Input: nums = [1, 2, 3, 4]\n",
    "\n",
    "Output: false"
   ]
  },
  {
   "cell_type": "code",
   "execution_count": 27,
   "id": "a0254e0f-0d65-4d3d-ac77-4fb4326902bf",
   "metadata": {},
   "outputs": [
    {
     "name": "stdout",
     "output_type": "stream",
     "text": [
      "True\n",
      "False\n"
     ]
    }
   ],
   "source": [
    "# Solution\n",
    "\n",
    "class Solution:\n",
    "    def hasDuplicate(self, nums: list[int]) -> bool:\n",
    "\n",
    "        HashSet = set()\n",
    "\n",
    "        for i in nums:\n",
    "            if i in HashSet:\n",
    "                return True\n",
    "            HashSet.add (i)\n",
    "        return False;\n",
    "\n",
    "# Test Cases\n",
    "solution = Solution()\n",
    "\n",
    "nums1 = [1, 2, 3, 3]\n",
    "nums2 = [1, 2, 3, 4]\n",
    "\n",
    "print (solution.hasDuplicate (nums1))\n",
    "print (solution.hasDuplicate (nums2))"
   ]
  }
 ],
 "metadata": {
  "kernelspec": {
   "display_name": "Python 3 (ipykernel)",
   "language": "python",
   "name": "python3"
  },
  "language_info": {
   "codemirror_mode": {
    "name": "ipython",
    "version": 3
   },
   "file_extension": ".py",
   "mimetype": "text/x-python",
   "name": "python",
   "nbconvert_exporter": "python",
   "pygments_lexer": "ipython3",
   "version": "3.12.3"
  }
 },
 "nbformat": 4,
 "nbformat_minor": 5
}
