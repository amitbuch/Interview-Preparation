{
 "cells": [
  {
   "cell_type": "markdown",
   "id": "1326f41b-2aba-411c-9891-6c37c4357eb9",
   "metadata": {},
   "source": [
    "# Two Integer Sum\n",
    "\n",
    "## Given an array of integers nums and an integer target, return the indices i and j such that nums[i] + nums[j] == target and i != j.\n",
    "\n",
    "You may assume that every input has exactly one pair of indices i and j that satisfy the condition.\n",
    "\n",
    "Return the answer with the smaller index first.\n",
    "\n",
    "### Example 1:\n",
    "\n",
    "Input: \n",
    "nums = [3,4,5,6], target = 7\n",
    "\n",
    "Output: [0,1]\n",
    "\n",
    "Explanation: nums[0] + nums[1] == 7, so we return [0, 1].\n",
    "\n",
    "### Example 2:\n",
    "\n",
    "Input: nums = [4,5,6], target = 10\n",
    "\n",
    "Output: [0,2]\n",
    "Example 3:\n",
    "\n",
    "Input: nums = [5,5], target = 10\n",
    "\n",
    "Output: [0,1]\n",
    "\n",
    "### Constraints:\n",
    "\n",
    "2 <= nums.length <= 1000\n",
    "-10000 <= nums[i] <= 10000\n",
    "-10000 <= target <= 10000"
   ]
  },
  {
   "cell_type": "code",
   "execution_count": null,
   "id": "efbbfd8b-1c0c-41ff-870b-52660d6ef801",
   "metadata": {},
   "outputs": [],
   "source": [
    "class Solution:\n",
    "    def twoSum(self, nums: List[int], target: int) -> List[int]:\n",
    "        \n",
    "        for i in range (0, len(nums)):\n",
    "            \n",
    "            for j in range (i+1, len (nums)):\n",
    "\n",
    "                if nums[i] == target - nums[j]:\n",
    "                    return [i,j]\n",
    "\n",
    "\n",
    "\n",
    "\n"
   ]
  }
 ],
 "metadata": {
  "kernelspec": {
   "display_name": "Python 3 (ipykernel)",
   "language": "python",
   "name": "python3"
  },
  "language_info": {
   "codemirror_mode": {
    "name": "ipython",
    "version": 3
   },
   "file_extension": ".py",
   "mimetype": "text/x-python",
   "name": "python",
   "nbconvert_exporter": "python",
   "pygments_lexer": "ipython3",
   "version": "3.12.3"
  }
 },
 "nbformat": 4,
 "nbformat_minor": 5
}
