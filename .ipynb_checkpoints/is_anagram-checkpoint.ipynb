{
 "cells": [
  {
   "cell_type": "markdown",
   "id": "6aef1d77-f5e7-4d9f-8165-777f69a5d7ea",
   "metadata": {},
   "source": [
    "# Is Anagram\n",
    "\n",
    "## Given two strings s and t, return true if the two strings are anagrams of each other, otherwise return false.\n",
    "\n",
    "### An anagram is a string that contains the exact same characters as another string, but the order of the characters can be different.\n",
    "\n",
    "#### Example 1:\n",
    "\n",
    "Input: s = \"racecar\", t = \"carrace\"\n",
    "\n",
    "Output: true\n",
    "\n",
    "#### Example 2:\n",
    "\n",
    "Input: s = \"jar\", t = \"jam\"\n",
    "\n",
    "Output: false\n",
    "\n",
    "#### Constraints:\n",
    "\n",
    "s and t consist of lowercase English letters.#"
   ]
  },
  {
   "cell_type": "code",
   "execution_count": 4,
   "id": "6a4a770c-214b-49a3-b00f-e7d235bc36d7",
   "metadata": {},
   "outputs": [
    {
     "name": "stdout",
     "output_type": "stream",
     "text": [
      "True\n",
      "False\n",
      "True\n",
      "True\n"
     ]
    }
   ],
   "source": [
    "# Solution\n",
    "\n",
    "class Solution:\n",
    "    def isAnagram(self, s: str, t: str) -> bool:\n",
    "\n",
    "        counterS = dict()\n",
    "        counterT = dict()\n",
    "\n",
    "        if len(s) != len (t):\n",
    "            return False\n",
    "\n",
    "        for i in range(len(s)):\n",
    "            counterS[s[i]] = counterS.get(s[i],0) + 1\n",
    "            counterT[t[i]] = counterT.get(t[i],0) + 1\n",
    "        return counterS == counterT\n",
    "        \n",
    "# Test Cases\n",
    "solution = Solution()\n",
    "\n",
    "print (solution.isAnagram ('racecar', 'carrace'))\n",
    "print (solution.isAnagram ('jar', 'jam'))\n",
    "print (solution.isAnagram ('melon', 'lemon'))\n",
    "print (solution.isAnagram ('basiparachromatin', 'marsipobranchiata'))"
   ]
  },
  {
   "cell_type": "code",
   "execution_count": null,
   "id": "c7ca9379-f627-46eb-9ba4-05ed1ba01fd5",
   "metadata": {},
   "outputs": [],
   "source": []
  }
 ],
 "metadata": {
  "kernelspec": {
   "display_name": "Python 3 (ipykernel)",
   "language": "python",
   "name": "python3"
  },
  "language_info": {
   "codemirror_mode": {
    "name": "ipython",
    "version": 3
   },
   "file_extension": ".py",
   "mimetype": "text/x-python",
   "name": "python",
   "nbconvert_exporter": "python",
   "pygments_lexer": "ipython3",
   "version": "3.12.3"
  }
 },
 "nbformat": 4,
 "nbformat_minor": 5
}
